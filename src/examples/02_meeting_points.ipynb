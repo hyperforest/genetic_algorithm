{
 "cells": [
  {
   "cell_type": "markdown",
   "metadata": {},
   "source": [
    "# Example on Knapsack Problem"
   ]
  },
  {
   "cell_type": "code",
   "execution_count": 1,
   "metadata": {},
   "outputs": [],
   "source": [
    "from matplotlib import pyplot as plt\n",
    "import numpy as np\n",
    "import os\n",
    "\n",
    "os.chdir('..')"
   ]
  },
  {
   "cell_type": "code",
   "execution_count": 2,
   "metadata": {},
   "outputs": [],
   "source": [
    "%load_ext autoreload\n",
    "%autoreload 2"
   ]
  },
  {
   "cell_type": "markdown",
   "metadata": {},
   "source": [
    "# Problem Statement"
   ]
  },
  {
   "cell_type": "code",
   "execution_count": 3,
   "metadata": {},
   "outputs": [],
   "source": [
    "seed = 47\n",
    "np.random.seed(seed)\n",
    "\n",
    "num_person = 50\n",
    "num_location = 10 \n",
    "\n",
    "person_x = np.random.random((num_person,))\n",
    "person_y = np.random.random((num_person,))\n",
    "location_x = np.random.random((num_location,))\n",
    "location_y = np.random.random((num_location,))"
   ]
  },
  {
   "cell_type": "code",
   "execution_count": 4,
   "metadata": {},
   "outputs": [
    {
     "name": "stdout",
     "output_type": "stream",
     "text": [
      "Best generation : 26\n",
      "Best fitness    : 0.09564660697307548\n",
      "Best chromosome : array([3, 4, 1, 8, 1, 5, 0, 7, 5, 3, 3, 2, 6, 2, 6, 6, 8, 5, 8, 8, 5, 3,\n",
      "       5, 3, 5, 4, 0, 5, 0, 3, 6, 3, 3, 1, 5, 5, 5, 8, 8, 0, 0, 8, 3, 8,\n",
      "       8, 6, 6, 5, 6, 0])\n",
      "Finished in 0:00:02 (avg 0.02s/generation)\n"
     ]
    }
   ],
   "source": [
    "from algen.trainer import Trainer\n",
    "from algen.selection import TournamentSelection\n",
    "from algen.crossover import UniformCrossover\n",
    "from algen.mutation import IntegerMutation\n",
    "\n",
    "num_generations = 100\n",
    "pop_size = 500\n",
    "crossover_rate = 0.9\n",
    "mutation_rate = 0.2\n",
    "\n",
    "selection = TournamentSelection(tournament_size=5)\n",
    "crossover = UniformCrossover()\n",
    "mutation = IntegerMutation()\n",
    "\n",
    "def fitness(chromosome):\n",
    "    loc_index = chromosome.genotype\n",
    "    dx = location_x[loc_index] - person_x\n",
    "    dy = location_y[loc_index] - person_y\n",
    "    dist = np.sqrt(np.square(dx) + np.square(dy))\n",
    "    return 1. / dist.sum()\n",
    "\n",
    "trainer = Trainer(\n",
    "    chromosome_type='integer',\n",
    "    chromosome_length=num_person,\n",
    "    fitness_function=fitness,\n",
    "    min_value=0,\n",
    "    max_value=num_location-1,\n",
    "    pop_size=pop_size,\n",
    "    selection=selection,\n",
    "    crossover_rate=crossover_rate,\n",
    "    mutation_rate=mutation_rate,\n",
    "    crossover=crossover,\n",
    "    mutation=mutation,\n",
    "    seed=seed\n",
    ")\n",
    "\n",
    "history = trainer.run(num_generations=num_generations, verbose=1)"
   ]
  },
  {
   "cell_type": "code",
   "execution_count": 5,
   "metadata": {},
   "outputs": [
    {
     "data": {
      "image/png": "[encoded data removed]",
      "text/plain": [
       "<Figure size 432x288 with 1 Axes>"
      ]
     },
     "metadata": {
      "needs_background": "light"
     },
     "output_type": "display_data"
    }
   ],
   "source": [
    "best = history.best_fitness_each_gen()\n",
    "average = history.average_fitness_each_gen()\n",
    "generation = history.generation\n",
    "\n",
    "plt.plot(best, label='best')\n",
    "plt.plot(average, label='average')\n",
    "\n",
    "plt.xticks(generation[::10])\n",
    "plt.grid()\n",
    "plt.legend()\n",
    "plt.xlabel('Generation')\n",
    "plt.title('Fitness value')\n",
    "plt.show()"
   ]
  }
 ],
 "metadata": {
  "kernelspec": {
   "display_name": "Python 3.9.7 ('env_dev': venv)",
   "language": "python",
   "name": "python3"
  },
  "language_info": {
   "codemirror_mode": {
    "name": "ipython",
    "version": 3
   },
   "file_extension": ".py",
   "mimetype": "text/x-python",
   "name": "python",
   "nbconvert_exporter": "python",
   "pygments_lexer": "ipython3",
   "version": "3.9.7"
  },
  "orig_nbformat": 4,
  "vscode": {
   "interpreter": {
    "hash": "b5235d226fe0b27b6225a2177aad652bcaa5b5110e30d44b15c905da185dc7fe"
   }
  }
 },
 "nbformat": 4,
 "nbformat_minor": 2
}
