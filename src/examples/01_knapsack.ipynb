{
 "cells": [
  {
   "cell_type": "markdown",
   "metadata": {},
   "source": [
    "# Example on Knapsack Problem"
   ]
  },
  {
   "cell_type": "code",
   "execution_count": 1,
   "metadata": {},
   "outputs": [],
   "source": [
    "from matplotlib import pyplot as plt\n",
    "import numpy as np\n",
    "import os\n",
    "\n",
    "os.chdir('..')"
   ]
  },
  {
   "cell_type": "code",
   "execution_count": 2,
   "metadata": {},
   "outputs": [],
   "source": [
    "from algen.trainer import Trainer\n",
    "\n",
    "%load_ext autoreload\n",
    "%autoreload 2"
   ]
  },
  {
   "cell_type": "markdown",
   "metadata": {},
   "source": [
    "# Problem Statement"
   ]
  },
  {
   "cell_type": "code",
   "execution_count": 47,
   "metadata": {},
   "outputs": [
    {
     "name": "stdout",
     "output_type": "stream",
     "text": [
      "Cap     : 26\n",
      "Weights : [8 7 8 9 9 4 1 8 1 8 8 2 8 3 3]\n",
      "Values  : [ 4 10 11  7  1  6 13 14  3  9  5 15  8  2 12]\n"
     ]
    }
   ],
   "source": [
    "seed = 47\n",
    "np.random.seed(seed)\n",
    "\n",
    "N = 15\n",
    "weights = np.random.choice(np.arange(9) + 1, N, replace=True)\n",
    "values = np.random.permutation(N) + 1\n",
    "cap = int(0.3 * weights.sum())\n",
    "\n",
    "print('Cap     :', cap)\n",
    "print('Weights :', weights)\n",
    "print('Values  :', values)"
   ]
  },
  {
   "cell_type": "code",
   "execution_count": 48,
   "metadata": {},
   "outputs": [
    {
     "name": "stdout",
     "output_type": "stream",
     "text": [
      "[Generation 0] - Average fitness: 39.30 - Best fitness: 50 - Best fitness so far: 50\n",
      "[Generation 1] - Average fitness: 32.90 - Best fitness: 50 - Best fitness so far: 50\n",
      "[Generation 2] - Average fitness: 30.70 - Best fitness: 53 - Best fitness so far: 53\n",
      "[Generation 3] - Average fitness: 39.90 - Best fitness: 53 - Best fitness so far: 53\n",
      "[Generation 4] - Average fitness: 29.70 - Best fitness: 53 - Best fitness so far: 53\n",
      "[Generation 5] - Average fitness: 23.80 - Best fitness: 53 - Best fitness so far: 53\n",
      "[Generation 6] - Average fitness: 34.20 - Best fitness: 61 - Best fitness so far: 61\n",
      "[Generation 7] - Average fitness: 45.10 - Best fitness: 63 - Best fitness so far: 63\n",
      "[Generation 8] - Average fitness: 40.60 - Best fitness: 63 - Best fitness so far: 63\n",
      "[Generation 9] - Average fitness: 52.90 - Best fitness: 65 - Best fitness so far: 65\n",
      "Best generation : 9\n",
      "Best fitness    : 65\n",
      "Best chromosome : array([0, 0, 0, 0, 0, 1, 1, 1, 0, 0, 1, 1, 0, 0, 1])\n",
      "Finished in 0:00:00 (avg 0.00s/generation)\n"
     ]
    }
   ],
   "source": [
    "num_generations = 10\n",
    "pop_size = 10\n",
    "crossover_rate = 0.9\n",
    "mutation_rate = 0.1\n",
    "\n",
    "def fitness(chromosome):\n",
    "    genotype = chromosome.genotype\n",
    "    mask = np.where(genotype == 1)\n",
    "    v, w = values[mask], weights[mask]\n",
    "    if w.sum() > cap:\n",
    "        return 0\n",
    "    return v.sum()\n",
    "\n",
    "trainer = Trainer(\n",
    "    chromosome_type='binary',\n",
    "    chromosome_length=N,\n",
    "    fitness_function=fitness,\n",
    "    pop_size=pop_size,\n",
    "    selection='rws',\n",
    "    crossover_rate=crossover_rate,\n",
    "    mutation_rate=mutation_rate,\n",
    "    seed=seed\n",
    ")\n",
    "\n",
    "history = trainer.run(num_generations=num_generations, verbose=2)"
   ]
  },
  {
   "cell_type": "code",
   "execution_count": 49,
   "metadata": {},
   "outputs": [
    {
     "data": {
      "image/png": "[encoded data removed]",
      "text/plain": [
       "<Figure size 432x288 with 1 Axes>"
      ]
     },
     "metadata": {
      "needs_background": "light"
     },
     "output_type": "display_data"
    }
   ],
   "source": [
    "best = history.best_fitness_each_gen()\n",
    "average = history.average_fitness_each_gen()\n",
    "generation = history.generation\n",
    "\n",
    "plt.plot(best, label='best')\n",
    "plt.plot(average, label='average')\n",
    "\n",
    "plt.xticks(generation[::2])\n",
    "plt.grid()\n",
    "plt.legend()\n",
    "plt.xlabel('Generation')\n",
    "plt.title('Fitness value')\n",
    "plt.show()"
   ]
  },
  {
   "cell_type": "markdown",
   "metadata": {},
   "source": [
    "# Custom Callback"
   ]
  },
  {
   "cell_type": "code",
   "execution_count": 71,
   "metadata": {},
   "outputs": [
    {
     "name": "stdout",
     "output_type": "stream",
     "text": [
      "Generation: 0 - [41 41 41 41 34  0 41 41 41  0  0  0 41  0 41 41 41  0  0  0] - best: 41 - avg: 24.2\n",
      "Generation: 7 - [ 0  0 28 29 18 41 26 17 35 27  0 39 35 36 34 34  0  0 33 24] - best: 41 - avg: 22.8\n",
      "Generation: 14 - [41 43 32 29  0 35 29 25 27 35 19 46 22 48 45 41 41 37 39 36] - best: 48 - avg: 33.5\n",
      "Generation: 21 - [34 35  0 35  0 32 37 22 34 31  0 41 17 29 37  0  0 43 39 31] - best: 43 - avg: 24.9\n",
      "Generation: 28 - [ 0 57 55  0 51 56 61 58 60 64 45 45 40  0 38  0  0 32 54  0] - best: 64 - avg: 35.8\n",
      "Generation: 35 - [61 48 50 57 53 61  0 48 47 55 61 38 64 41 46 41 53 38 51 43] - best: 64 - avg: 47.8\n",
      "Generation: 42 - [59 45 58 57 46 50 46 64 28 18 38 62 58 46 55 58 43 51 32 47] - best: 64 - avg: 48.0\n",
      "Generation: 49 - [60 44 42 45 40  0 58 43  0 45 63 38 45  0  0 58 73 58 61 58] - best: 73 - avg: 41.5\n",
      "Best generation : 43\n",
      "Best fitness    : 73\n",
      "Best chromosome : array([0, 1, 0, 0, 0, 1, 1, 1, 1, 0, 0, 1, 0, 0, 1])\n",
      "Finished in 0:00:00 (avg 0.00s/generation)\n"
     ]
    }
   ],
   "source": [
    "from algen.callbacks import Callback\n",
    "\n",
    "trainer = Trainer(\n",
    "    chromosome_type='binary',\n",
    "    chromosome_length=N,\n",
    "    fitness_function=fitness,\n",
    "    pop_size=20,\n",
    "    selection='rws',\n",
    "    crossover_rate=crossover_rate,\n",
    "    mutation_rate=mutation_rate,\n",
    "    seed=0\n",
    ")\n",
    "\n",
    "class PrintAllFitnessInPeriod(Callback):     \n",
    "    def __init__(self, period=1):\n",
    "        self.period = period\n",
    "\n",
    "    def on_generation_end(self, gen, logs=None):\n",
    "        fitness = logs.get('fitness')\n",
    "\n",
    "        if gen % self.period == 0:\n",
    "            msg = f'Generation: {gen} - {fitness}'\n",
    "            msg += f' - best: {fitness.max()} - avg: {fitness.mean():.1f}'\n",
    "            print(msg)\n",
    "\n",
    "callbacks = [PrintAllFitnessInPeriod(period=7)]\n",
    "history = trainer.run(num_generations=50, verbose=1, callbacks=callbacks)"
   ]
  },
  {
   "cell_type": "code",
   "execution_count": 72,
   "metadata": {},
   "outputs": [
    {
     "data": {
      "image/png": "[encoded data removed]",
      "text/plain": [
       "<Figure size 432x288 with 1 Axes>"
      ]
     },
     "metadata": {
      "needs_background": "light"
     },
     "output_type": "display_data"
    }
   ],
   "source": [
    "best = history.best_fitness_each_gen()\n",
    "average = history.average_fitness_each_gen()\n",
    "generation = history.generation\n",
    "\n",
    "plt.plot(best, label='best')\n",
    "plt.plot(average, label='average')\n",
    "\n",
    "plt.xticks(generation[::10])\n",
    "plt.grid()\n",
    "plt.legend()\n",
    "plt.xlabel('Generation')\n",
    "plt.title('Fitness value')\n",
    "plt.show()"
   ]
  }
 ],
 "metadata": {
  "kernelspec": {
   "display_name": "Python 3.9.7 ('env_dev': venv)",
   "language": "python",
   "name": "python3"
  },
  "language_info": {
   "codemirror_mode": {
    "name": "ipython",
    "version": 3
   },
   "file_extension": ".py",
   "mimetype": "text/x-python",
   "name": "python",
   "nbconvert_exporter": "python",
   "pygments_lexer": "ipython3",
   "version": "3.9.7"
  },
  "orig_nbformat": 4,
  "vscode": {
   "interpreter": {
    "hash": "0082f7494323519cb258b4547f2dc5b9c54bd523bf86214a16a5ef6b4ff9a7c8"
   }
  }
 },
 "nbformat": 4,
 "nbformat_minor": 2
}
