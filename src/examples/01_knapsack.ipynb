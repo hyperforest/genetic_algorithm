{
 "cells": [
  {
   "cell_type": "markdown",
   "metadata": {},
   "source": [
    "# Example on Knapsack Problem"
   ]
  },
  {
   "cell_type": "code",
   "execution_count": 2,
   "metadata": {},
   "outputs": [],
   "source": [
    "from matplotlib import pyplot as plt\n",
    "import numpy as np\n",
    "import os\n",
    "\n",
    "os.chdir('..')"
   ]
  },
  {
   "cell_type": "code",
   "execution_count": 3,
   "metadata": {},
   "outputs": [],
   "source": [
    "from algen.trainer import Trainer\n",
    "\n",
    "%load_ext autoreload\n",
    "%autoreload 2"
   ]
  },
  {
   "cell_type": "code",
   "execution_count": 4,
   "metadata": {},
   "outputs": [
    {
     "name": "stdout",
     "output_type": "stream",
     "text": [
      "Cap     : 26\n",
      "Weights : [8 7 8 9 9 4 1 8 1 8 8 2 8 3 3]\n",
      "Values  : [ 4 10 11  7  1  6 13 14  3  9  5 15  8  2 12]\n"
     ]
    }
   ],
   "source": [
    "seed = 47\n",
    "np.random.seed(seed)\n",
    "\n",
    "N = 15\n",
    "weights = np.random.choice(np.arange(9) + 1, N, replace=True)\n",
    "values = np.random.permutation(N) + 1\n",
    "cap = int(0.3 * weights.sum())\n",
    "\n",
    "print('Cap     :', cap)\n",
    "print('Weights :', weights)\n",
    "print('Values  :', values)"
   ]
  },
  {
   "cell_type": "code",
   "execution_count": 7,
   "metadata": {},
   "outputs": [
    {
     "name": "stdout",
     "output_type": "stream",
     "text": [
      "[Generation 0] - 0:00:00 - Best fitness: 50.0000 - Average fitness: 39.3000\n",
      "[Generation 1] - 0:00:00 - Best fitness: 50.0000 - Average fitness: 32.9000\n",
      "[Generation 2] - 0:00:00 - Best fitness: 53.0000 - Average fitness: 30.7000\n",
      "[Generation 3] - 0:00:00 - Best fitness: 53.0000 - Average fitness: 39.9000\n",
      "[Generation 4] - 0:00:00 - Best fitness: 53.0000 - Average fitness: 29.7000\n",
      "[Generation 5] - 0:00:00 - Best fitness: 53.0000 - Average fitness: 23.8000\n",
      "[Generation 6] - 0:00:00 - Best fitness: 61.0000 - Average fitness: 34.2000\n",
      "[Generation 7] - 0:00:00 - Best fitness: 63.0000 - Average fitness: 45.1000\n",
      "[Generation 8] - 0:00:00 - Best fitness: 63.0000 - Average fitness: 40.6000\n",
      "[Generation 9] - 0:00:00 - Best fitness: 65.0000 - Average fitness: 52.9000\n",
      "Best generation : 9\n",
      "Best fitness    : 65.0000\n",
      "Best chromosome : BinaryChromosome(length=15, genotype=array([0, 0, 0, 0, 0, 1, 1, 1, 0, 0, 1, 1, 0, 0, 1])\n",
      "Finished in 0:00:00 (avg 0.00s/gen)\n"
     ]
    }
   ],
   "source": [
    "num_generations = 10\n",
    "pop_size = 10\n",
    "crossover_rate = 0.9\n",
    "mutation_rate = 0.1\n",
    "\n",
    "def fitness(chromosome):\n",
    "    genotype = chromosome.genotype\n",
    "    mask = np.where(genotype == 1)\n",
    "    v, w = values[mask], weights[mask]\n",
    "    if w.sum() > cap:\n",
    "        return 0\n",
    "    return v.sum()\n",
    "\n",
    "trainer = Trainer(\n",
    "    chromosome_type='binary',\n",
    "    chromosome_length=N,\n",
    "    fitness_function=fitness,\n",
    "    pop_size=pop_size,\n",
    "    selection='rws',\n",
    "    crossover_rate=crossover_rate,\n",
    "    mutation_rate=mutation_rate,\n",
    "    seed=seed\n",
    ")\n",
    "\n",
    "history = trainer.run(num_generations=num_generations)"
   ]
  },
  {
   "cell_type": "code",
   "execution_count": 8,
   "metadata": {},
   "outputs": [
    {
     "data": {
      "image/png": "[encoded data removed]",
      "text/plain": [
       "<Figure size 432x288 with 1 Axes>"
      ]
     },
     "metadata": {
      "needs_background": "light"
     },
     "output_type": "display_data"
    }
   ],
   "source": [
    "best = history['result'].best\n",
    "average = history['result'].average\n",
    "generation = history['result'].generation\n",
    "\n",
    "plt.plot(best, label='best')\n",
    "plt.plot(average, label='average')\n",
    "\n",
    "plt.xticks(generation[::2])\n",
    "plt.grid()\n",
    "plt.legend()\n",
    "plt.xlabel('Generation')\n",
    "plt.title('Fitness value')\n",
    "plt.show()"
   ]
  }
 ],
 "metadata": {
  "kernelspec": {
   "display_name": "Python 3.9.7 ('env_dev': venv)",
   "language": "python",
   "name": "python3"
  },
  "language_info": {
   "codemirror_mode": {
    "name": "ipython",
    "version": 3
   },
   "file_extension": ".py",
   "mimetype": "text/x-python",
   "name": "python",
   "nbconvert_exporter": "python",
   "pygments_lexer": "ipython3",
   "version": "3.9.7"
  },
  "orig_nbformat": 4,
  "vscode": {
   "interpreter": {
    "hash": "0082f7494323519cb258b4547f2dc5b9c54bd523bf86214a16a5ef6b4ff9a7c8"
   }
  }
 },
 "nbformat": 4,
 "nbformat_minor": 2
}
