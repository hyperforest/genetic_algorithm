{
 "cells": [
  {
   "cell_type": "markdown",
   "metadata": {},
   "source": [
    "# Example on Kattis MNIST Problem\n",
    "\n",
    "https://open.kattis.com/problems/mnist2class"
   ]
  },
  {
   "cell_type": "code",
   "execution_count": 1,
   "metadata": {},
   "outputs": [],
   "source": [
    "from itertools import product\n",
    "from matplotlib import pyplot as plt\n",
    "import numpy as np\n",
    "import pandas as pd\n",
    "import os\n",
    "\n",
    "os.chdir('..')\n",
    "\n",
    "from algen.selection import RouletteWheelSelection, TournamentSelection\n",
    "from algen.trainer import Trainer\n",
    "\n",
    "\n",
    "%load_ext autoreload\n",
    "%autoreload 2"
   ]
  },
  {
   "cell_type": "code",
   "execution_count": 4,
   "metadata": {},
   "outputs": [],
   "source": [
    "class BinaryNN:\n",
    "    '''\n",
    "    Class for Binary Neural Network\n",
    "\n",
    "    Arguments\n",
    "    ---------\n",
    "    - num_classes: int, default 2\n",
    "\n",
    "    - input_shape: int, default None\n",
    "        must be specified if init_weights is not Numpy array\n",
    "\n",
    "    - nodes_per_class: int, default 15\n",
    "        the number of hidden nodes used for each class\n",
    "\n",
    "    - init_weights: None, or Numpy array\n",
    "        if Numpy array, should be in shape of (nodes_per_class * num_classes, input_shape)\n",
    "    '''\n",
    "\n",
    "    def __init__(self, num_classes=2, input_shape=51, nodes_per_class=15, init_weights=None):\n",
    "        self.num_classes = num_classes\n",
    "        self.input_shape = input_shape\n",
    "        self.nodes_per_class = nodes_per_class\n",
    "        self.hidden_nodes = nodes_per_class * num_classes\n",
    "        self.weights = init_weights.reshape((self.hidden_nodes, self.input_shape))\n",
    "\n",
    "    def predict(self, X, batch_size=64):\n",
    "        '''\n",
    "        Arguments\n",
    "        ---------\n",
    "        - X: Numpy array\n",
    "            Should be in shape of (num_samples, input_shape)\n",
    "\n",
    "        - batch_size: int, default 128\n",
    "            The number of samples used for each batch of computation to predict\n",
    "        \n",
    "        Returns\n",
    "        -------\n",
    "        - result: Numpy array\n",
    "            prediction result in shape of (num_samples, 1)\n",
    "\n",
    "        '''\n",
    "        result = []\n",
    "        \n",
    "        for i in range(0, len(X), batch_size):\n",
    "            x = X[i:i+batch_size]     # shape [batch_size, input_shape]\n",
    "            x = x.dot(self.weights.T)   # shape [batch_size, hidden_nodes]\n",
    "\n",
    "            class_sum = []\n",
    "            for j in range(0, self.hidden_nodes, self.nodes_per_class):\n",
    "                sum_class = x[:, j:j+self.nodes_per_class]\n",
    "                sum_class = sum_class.sum(axis=1)\n",
    "                class_sum.append(sum_class)\n",
    "\n",
    "            class_sum = np.vstack(class_sum).T\n",
    "            class_sum = class_sum.argmax(axis=1)\n",
    "            result.append(class_sum)\n",
    "\n",
    "        result = np.hstack(result).reshape(-1, 1)\n",
    "        return result\n",
    "\n",
    "def load_data(num_classes):\n",
    "    df = pd.read_csv('./examples/sample_data/mnist%d_train.txt' % num_classes, sep=' ', header=None)\n",
    "    features, labels = df.iloc[:, :-1].values, df.iloc[:, -1:].values\n",
    "    return features, labels"
   ]
  },
  {
   "cell_type": "markdown",
   "metadata": {},
   "source": [
    "# Two Class MNIST"
   ]
  },
  {
   "cell_type": "code",
   "execution_count": 5,
   "metadata": {},
   "outputs": [
    {
     "name": "stdout",
     "output_type": "stream",
     "text": [
      "Data shape: (11846, 51)\n",
      "[Generation 0] - 0:00:00 - Best fitness: 0.8025 - Average fitness: 0.6207\n",
      "[Generation 1] - 0:00:00 - Best fitness: 0.8623 - Average fitness: 0.7021\n",
      "[Generation 2] - 0:00:00 - Best fitness: 0.8647 - Average fitness: 0.7749\n",
      "[Generation 3] - 0:00:00 - Best fitness: 0.8710 - Average fitness: 0.8372\n",
      "[Generation 4] - 0:00:00 - Best fitness: 0.8712 - Average fitness: 0.8606\n",
      "Best generation : 4\n",
      "Best fitness    : 0.8712\n",
      "Best chromosome : array([1, 1, 1, ..., 1, 0, 0])\n",
      "Finished in 0:00:03 (avg 0.60s/gen)\n"
     ]
    }
   ],
   "source": [
    "NUM_CLASSES = 2\n",
    "BATCH_SIZE = 16384\n",
    "NODES_PER_CLASS = 15\n",
    "\n",
    "seed = 42\n",
    "num_generations = 5\n",
    "pop_size = 50\n",
    "crossover_rate = 0.95\n",
    "mutation_rate = 0.15\n",
    "chromosome_length = 51 * NODES_PER_CLASS * NUM_CLASSES\n",
    "\n",
    "np.random.seed(seed)\n",
    "\n",
    "X, y = load_data(NUM_CLASSES)\n",
    "print('Data shape:', X.shape)\n",
    "\n",
    "def fitness(chromosome):\n",
    "    init_weights = 2 * chromosome.genotype - 1\n",
    "    bnn = BinaryNN(num_classes=NUM_CLASSES, init_weights=init_weights)\n",
    "    y_pred = bnn.predict(X, batch_size=BATCH_SIZE)\n",
    "    return (y == y_pred).sum() / y.shape[0]\n",
    "\n",
    "selection = TournamentSelection(tournament_size=5)\n",
    "\n",
    "trainer = Trainer(\n",
    "    chromosome_type='binary',\n",
    "    chromosome_length=chromosome_length,\n",
    "    fitness_function=fitness,\n",
    "    pop_size=pop_size,\n",
    "    selection=selection,\n",
    "    crossover_rate=crossover_rate,\n",
    "    mutation_rate=mutation_rate,\n",
    "    seed=seed\n",
    ")\n",
    "\n",
    "history = trainer.run(num_generations=num_generations, verbose=2)"
   ]
  },
  {
   "cell_type": "code",
   "execution_count": 7,
   "metadata": {},
   "outputs": [
    {
     "data": {
      "image/png": "[encoded data removed]",
      "text/plain": [
       "<Figure size 432x288 with 1 Axes>"
      ]
     },
     "metadata": {
      "needs_background": "light"
     },
     "output_type": "display_data"
    }
   ],
   "source": [
    "history = trainer.history['result'].set_index('generation')\n",
    "history.plot(kind='line')\n",
    "\n",
    "step = max(len(history) // 10, 1)\n",
    "plt.xticks(history.index[::step])\n",
    "\n",
    "plt.grid()\n",
    "plt.xlabel('Generation')\n",
    "plt.title('Fitness value')\n",
    "plt.show()"
   ]
  },
  {
   "cell_type": "code",
   "execution_count": 8,
   "metadata": {},
   "outputs": [],
   "source": [
    "best_solution = trainer.best_chromosome.genotype\n",
    "best_solution = 2 * best_solution.reshape(51, NODES_PER_CLASS * NUM_CLASSES) - 1\n",
    "best_solution = best_solution.tolist()\n",
    "\n",
    "code = f'''A = {best_solution}\n",
    "\n",
    "for a in A:\n",
    "    print(' '.join(map(str, a)))\n",
    "'''\n",
    "\n",
    "# print(code)"
   ]
  },
  {
   "cell_type": "markdown",
   "metadata": {},
   "source": [
    "# Grid Search on GA Parameters"
   ]
  },
  {
   "cell_type": "markdown",
   "metadata": {},
   "source": [
    "## Two Class"
   ]
  },
  {
   "cell_type": "code",
   "execution_count": 10,
   "metadata": {},
   "outputs": [
    {
     "name": "stdout",
     "output_type": "stream",
     "text": [
      "\n",
      "Trial: 0 from 3 - {'pop_size': 10, 'crossover_rate': 0.7, 'mutation_rate': 0.01, 'selection': 0}\n",
      "Best generation : 0\n",
      "Best fitness    : 0.6453\n",
      "Best chromosome : array([0, 1, 1, ..., 0, 0, 0])\n",
      "Finished in 0:00:02 (avg 0.10s/gen)\n",
      "\n",
      "Trial: 1 from 3 - {'pop_size': 10, 'crossover_rate': 0.7, 'mutation_rate': 0.01, 'selection': 2}\n",
      "Best generation : 19\n",
      "Best fitness    : 0.7865\n",
      "Best chromosome : array([0, 1, 1, ..., 0, 0, 0])\n",
      "Finished in 0:00:02 (avg 0.10s/gen)\n",
      "\n",
      "Trial: 2 from 3 - {'pop_size': 10, 'crossover_rate': 0.7, 'mutation_rate': 0.01, 'selection': 5}\n",
      "Best generation : 19\n",
      "Best fitness    : 0.7277\n",
      "Best chromosome : array([0, 1, 1, ..., 0, 0, 0])\n",
      "Finished in 0:00:02 (avg 0.10s/gen)\n"
     ]
    }
   ],
   "source": [
    "NUM_CLASSES = 2\n",
    "BATCH_SIZE = 16384\n",
    "NODES_PER_CLASS = 15\n",
    "\n",
    "seed = 42\n",
    "num_generations = 20\n",
    "chromosome_length = 51 * NODES_PER_CLASS * NUM_CLASSES\n",
    "\n",
    "params_grid = dict(\n",
    "    pop_size = [10],\n",
    "    crossover_rate = [0.7],\n",
    "    mutation_rate = [0.01],\n",
    "    selection = [0, 2, 5]\n",
    ")\n",
    "\n",
    "grid = list(product(*params_grid.values()))\n",
    "final_result = []\n",
    "\n",
    "for trial, params in enumerate(grid):\n",
    "    keys = params_grid.keys()\n",
    "    kwargs = dict(zip(keys, params))\n",
    "    print(f'\\nTrial: {trial} from {len(grid)} -', kwargs)\n",
    "\n",
    "    selection_kwargs = kwargs['selection']\n",
    "    if selection_kwargs == 0:\n",
    "        selection = RouletteWheelSelection()\n",
    "    else:\n",
    "        selection = TournamentSelection(tournament_size=selection_kwargs)\n",
    "    kwargs.pop('selection')\n",
    "\n",
    "    trainer = Trainer(\n",
    "        chromosome_type='binary',\n",
    "        chromosome_length=chromosome_length,\n",
    "        fitness_function=fitness,\n",
    "        selection=selection,\n",
    "        seed=seed,\n",
    "        **kwargs\n",
    "    )\n",
    "\n",
    "    trainer.run(num_generations=num_generations, verbose=1)\n",
    "\n",
    "    result = kwargs.copy()\n",
    "    result.update({\n",
    "        'selection': selection_kwargs,\n",
    "        'best_fitness': trainer.history['result']['best'].iloc[-1],\n",
    "        'avg_runtime': trainer.history['avg_runtime'],\n",
    "        'trial': trial\n",
    "    })\n",
    "\n",
    "    final_result.append(result)\n",
    "\n",
    "final_result = pd.DataFrame(final_result)"
   ]
  }
 ],
 "metadata": {
  "kernelspec": {
   "display_name": "Python 3.9.7 ('env_dev': venv)",
   "language": "python",
   "name": "python3"
  },
  "language_info": {
   "codemirror_mode": {
    "name": "ipython",
    "version": 3
   },
   "file_extension": ".py",
   "mimetype": "text/x-python",
   "name": "python",
   "nbconvert_exporter": "python",
   "pygments_lexer": "ipython3",
   "version": "3.9.7"
  },
  "orig_nbformat": 4,
  "vscode": {
   "interpreter": {
    "hash": "0082f7494323519cb258b4547f2dc5b9c54bd523bf86214a16a5ef6b4ff9a7c8"
   }
  }
 },
 "nbformat": 4,
 "nbformat_minor": 2
}
