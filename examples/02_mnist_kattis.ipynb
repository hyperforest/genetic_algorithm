{
 "cells": [
  {
   "cell_type": "code",
   "execution_count": 3,
   "metadata": {},
   "outputs": [
    {
     "name": "stdout",
     "output_type": "stream",
     "text": [
      "The autoreload extension is already loaded. To reload it, use:\n",
      "  %reload_ext autoreload\n"
     ]
    }
   ],
   "source": [
    "from matplotlib import pyplot as plt\n",
    "import numpy as np\n",
    "import pandas as pd\n",
    "import os\n",
    "from sklearn.metrics import accuracy_score\n",
    "from sklearn.model_selection import train_test_split\n",
    "\n",
    "os.chdir('../src')\n",
    "from trainer import Trainer\n",
    "\n",
    "\n",
    "%load_ext autoreload\n",
    "%autoreload 2"
   ]
  },
  {
   "cell_type": "code",
   "execution_count": 67,
   "metadata": {},
   "outputs": [],
   "source": [
    "BATCH_SIZE = 4096\n",
    "NUM_CLASSES = 2\n",
    "NODES_PER_CLASS = 15\n",
    "\n",
    "def load_data(num_classes):\n",
    "    df = pd.read_csv('../examples/mnist%d_train.txt' % num_classes, sep=' ', header=None)\n",
    "    features, labels = df.iloc[:, :-1].values, df.iloc[:, -1:].values\n",
    "    return features, labels\n",
    "\n",
    "X, y = load_data(NUM_CLASSES)"
   ]
  },
  {
   "cell_type": "code",
   "execution_count": 61,
   "metadata": {},
   "outputs": [],
   "source": [
    "class BinaryNN:\n",
    "    '''\n",
    "    Class for Binary Neural Network\n",
    "\n",
    "    Arguments\n",
    "    ---------\n",
    "    - num_classes: int, default 2\n",
    "\n",
    "    - input_shape: int, default None\n",
    "        must be specified if init_weights is not Numpy array\n",
    "\n",
    "    - nodes_per_class: int, default 15\n",
    "        the number of hidden nodes used for each class\n",
    "\n",
    "    - init_weights: None, or Numpy array\n",
    "        if Numpy array, should be in shape of (nodes_per_class * num_classes, input_shape)\n",
    "    '''\n",
    "\n",
    "    def __init__(self, num_classes=2, input_shape=51, nodes_per_class=15, init_weights=None):\n",
    "        self.num_classes = num_classes\n",
    "        self.input_shape = input_shape\n",
    "        self.nodes_per_class = nodes_per_class\n",
    "        self.hidden_nodes = nodes_per_class * num_classes\n",
    "        self.weights = init_weights.reshape((self.hidden_nodes, self.input_shape))\n",
    "\n",
    "    def predict(self, X, batch_size=64):\n",
    "        '''\n",
    "        Arguments\n",
    "        ---------\n",
    "        - X: Numpy array\n",
    "            Should be in shape of (num_samples, input_shape)\n",
    "\n",
    "        - batch_size: int, default 128\n",
    "            The number of samples used for each batch of computation to predict\n",
    "        \n",
    "        Returns\n",
    "        -------\n",
    "        - result: Numpy array\n",
    "            prediction result in shape of (num_samples, 1)\n",
    "\n",
    "        '''\n",
    "        result = []\n",
    "        \n",
    "        for i in range(0, len(X), batch_size):\n",
    "            x = X[i:i+batch_size]     # shape [batch_size, input_shape]\n",
    "            x = x.dot(self.weights.T)   # shape [batch_size, hidden_nodes]\n",
    "\n",
    "            class_sum = []\n",
    "            for j in range(0, self.hidden_nodes, self.nodes_per_class):\n",
    "                sum_class = x[:, j:j+self.nodes_per_class]\n",
    "                sum_class = sum_class.sum(axis=1)\n",
    "                class_sum.append(sum_class)\n",
    "\n",
    "            class_sum = np.vstack(class_sum).T\n",
    "            class_sum = class_sum.argmax(axis=1)\n",
    "            result.append(class_sum)\n",
    "\n",
    "        result = np.hstack(result).reshape(-1, 1)\n",
    "        return result"
   ]
  },
  {
   "cell_type": "code",
   "execution_count": 70,
   "metadata": {},
   "outputs": [
    {
     "name": "stdout",
     "output_type": "stream",
     "text": [
      "Iteration   [0] ---- Best fitness: 0.7711 ---- Average fitness: 0.5596\n",
      "Iteration   [1] ---- Best fitness: 0.7808 ---- Average fitness: 0.6121\n",
      "Iteration   [2] ---- Best fitness: 0.8101 ---- Average fitness: 0.6529\n",
      "Iteration   [3] ---- Best fitness: 0.8765 ---- Average fitness: 0.6996\n",
      "Iteration   [4] ---- Best fitness: 0.8381 ---- Average fitness: 0.7261\n",
      "Iteration   [5] ---- Best fitness: 0.8635 ---- Average fitness: 0.7534\n",
      "Iteration   [6] ---- Best fitness: 0.8618 ---- Average fitness: 0.7822\n",
      "Iteration   [7] ---- Best fitness: 0.9084 ---- Average fitness: 0.8033\n",
      "Iteration   [8] ---- Best fitness: 0.9051 ---- Average fitness: 0.8194\n",
      "Iteration   [9] ---- Best fitness: 0.9103 ---- Average fitness: 0.8363\n",
      "Iteration   [10] ---- Best fitness: 0.9103 ---- Average fitness: 0.8538\n",
      "Iteration   [11] ---- Best fitness: 0.9209 ---- Average fitness: 0.8643\n",
      "Iteration   [12] ---- Best fitness: 0.9220 ---- Average fitness: 0.8738\n",
      "Iteration   [13] ---- Best fitness: 0.9249 ---- Average fitness: 0.8830\n",
      "Iteration   [14] ---- Best fitness: 0.9272 ---- Average fitness: 0.8942\n"
     ]
    }
   ],
   "source": [
    "seed = 42\n",
    "num_generations = 100\n",
    "pop_size = 150\n",
    "crossover_rate = 0.95\n",
    "mutation_rate = 0.15\n",
    "chromosome_length = 51 * NODES_PER_CLASS * NUM_CLASSES\n",
    "\n",
    "np.random.seed(seed)\n",
    "\n",
    "def fitness(chromosome):\n",
    "    init_weights = 2 * chromosome.genotype - 1\n",
    "    bnn = BinaryNN(num_classes=NUM_CLASSES, init_weights=init_weights)\n",
    "    y_pred = bnn.predict(X, batch_size=BATCH_SIZE)\n",
    "    return accuracy_score(y, y_pred)\n",
    "\n",
    "\n",
    "trainer = Trainer(\n",
    "    chromosome_type='binary',\n",
    "    chromosome_length=chromosome_length,\n",
    "    fitness_function=fitness,\n",
    "    pop_size=pop_size,\n",
    "    selection='tournament',\n",
    "    crossover_rate=crossover_rate,\n",
    "    mutation_rate=mutation_rate,\n",
    "    seed=seed\n",
    ")\n",
    "\n",
    "history = trainer.run(num_generations=num_generations)"
   ]
  },
  {
   "cell_type": "code",
   "execution_count": 65,
   "metadata": {},
   "outputs": [
    {
     "data": {
      "image/png": "[encoded data removed]",
      "text/plain": [
       "<Figure size 432x288 with 1 Axes>"
      ]
     },
     "metadata": {
      "needs_background": "light"
     },
     "output_type": "display_data"
    }
   ],
   "source": [
    "plt.plot(history['best'], label='best')\n",
    "plt.plot(history['average'], label='average')\n",
    "\n",
    "step = num_generations // 10\n",
    "plt.xticks(range(0, num_generations + step, step))\n",
    "\n",
    "plt.grid()\n",
    "plt.legend()\n",
    "plt.xlabel('Generation')\n",
    "plt.title('Fitness value')\n",
    "plt.show()"
   ]
  },
  {
   "cell_type": "code",
   "execution_count": 66,
   "metadata": {},
   "outputs": [],
   "source": [
    "best_solution = trainer.best_chromosome.genotype\n",
    "best_solution = 2 * best_solution.reshape(51, NODES_PER_CLASS * NUM_CLASSES) - 1\n",
    "best_solution = best_solution.tolist()\n",
    "\n",
    "code = f'''A = {best_solution}\n",
    "\n",
    "for a in A:\n",
    "    print(' '.join(map(str, a)))\n",
    "'''\n",
    "\n",
    "with open('../examples/mnist10_solution.py', 'w') as file:\n",
    "    print(code, file=file)"
   ]
  }
 ],
 "metadata": {
  "kernelspec": {
   "display_name": "Python 3.9.7 ('env': venv)",
   "language": "python",
   "name": "python3"
  },
  "language_info": {
   "codemirror_mode": {
    "name": "ipython",
    "version": 3
   },
   "file_extension": ".py",
   "mimetype": "text/x-python",
   "name": "python",
   "nbconvert_exporter": "python",
   "pygments_lexer": "ipython3",
   "version": "3.9.7"
  },
  "orig_nbformat": 4,
  "vscode": {
   "interpreter": {
    "hash": "636f76a40dcefe8f51b5bd7ed935161ea1c93608af8e3b8a3d9316a940b0a38e"
   }
  }
 },
 "nbformat": 4,
 "nbformat_minor": 2
}
