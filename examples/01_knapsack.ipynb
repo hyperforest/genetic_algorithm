{
 "cells": [
  {
   "cell_type": "markdown",
   "metadata": {},
   "source": [
    "# Example on Knapsack Problem"
   ]
  },
  {
   "cell_type": "code",
   "execution_count": 1,
   "metadata": {},
   "outputs": [],
   "source": [
    "from matplotlib import pyplot as plt\n",
    "import numpy as np\n",
    "import os\n",
    "\n",
    "os.chdir('../src')\n",
    "from trainer import Trainer\n",
    "\n",
    "%load_ext autoreload\n",
    "%autoreload 2"
   ]
  },
  {
   "cell_type": "code",
   "execution_count": 53,
   "metadata": {},
   "outputs": [
    {
     "name": "stdout",
     "output_type": "stream",
     "text": [
      "Cap     : 26\n",
      "Weights : [7 4 8 5 7 3 7 8 5 4 8 8 3 6 5]\n",
      "Values  : [ 7  3  9 14 10 13 11  4  1  5 15  6 12  8  2]\n"
     ]
    }
   ],
   "source": [
    "seed = 42\n",
    "num_generations = 10\n",
    "pop_size = 20\n",
    "crossover_rate = 0.9\n",
    "mutation_rate = 0.1\n",
    "\n",
    "np.random.seed(seed)\n",
    "\n",
    "N = 15\n",
    "weights = np.random.choice(np.arange(9) + 1, N, replace=True)\n",
    "values = np.random.permutation(N) + 1\n",
    "cap = int(0.3 * weights.sum())\n",
    "\n",
    "print('Cap     :', cap)\n",
    "print('Weights :', weights)\n",
    "print('Values  :', values)"
   ]
  },
  {
   "cell_type": "code",
   "execution_count": 54,
   "metadata": {},
   "outputs": [
    {
     "name": "stdout",
     "output_type": "stream",
     "text": [
      "Iteration   [0] ---- Best Fitness: 34.00 ---- Average Fitness: 22.20\n",
      "Iteration   [1] ---- Best Fitness: 34.00 ---- Average Fitness: 26.35\n",
      "Iteration   [2] ---- Best Fitness: 34.00 ---- Average Fitness: 27.15\n",
      "Iteration   [3] ---- Best Fitness: 36.00 ---- Average Fitness: 23.90\n",
      "Iteration   [4] ---- Best Fitness: 36.00 ---- Average Fitness: 26.45\n",
      "Iteration   [5] ---- Best Fitness: 36.00 ---- Average Fitness: 23.45\n",
      "Iteration   [6] ---- Best Fitness: 36.00 ---- Average Fitness: 22.95\n",
      "Iteration   [7] ---- Best Fitness: 36.00 ---- Average Fitness: 24.90\n",
      "Iteration   [8] ---- Best Fitness: 46.00 ---- Average Fitness: 26.60\n",
      "Iteration   [9] ---- Best Fitness: 46.00 ---- Average Fitness: 27.60\n",
      "Best generation : 9\n",
      "Best fitness    : 46\n",
      "Best chromosome : array([0, 0, 0, 0, 0, 1, 1, 0, 0, 0, 0, 0, 1, 1, 1])\n"
     ]
    }
   ],
   "source": [
    "def fitness(chromosome):\n",
    "    genotype = chromosome.genotype\n",
    "    mask = np.where(genotype == 1)\n",
    "    v, w = values[mask], weights[mask]\n",
    "    if w.sum() > cap:\n",
    "        return 0\n",
    "    return v.sum()\n",
    "\n",
    "trainer = Trainer(\n",
    "    chromosome_type='binary',\n",
    "    chromosome_length=N,\n",
    "    fitness_function=fitness,\n",
    "    pop_size=pop_size,\n",
    "    selection='rws',\n",
    "    crossover_rate=crossover_rate,\n",
    "    mutation_rate=mutation_rate,\n",
    "    seed=seed\n",
    ")\n",
    "\n",
    "history = trainer.run(num_generations=num_generations)"
   ]
  },
  {
   "cell_type": "code",
   "execution_count": 55,
   "metadata": {},
   "outputs": [
    {
     "data": {
      "image/png": "[encoded data removed]",
      "text/plain": [
       "<Figure size 432x288 with 1 Axes>"
      ]
     },
     "metadata": {
      "needs_background": "light"
     },
     "output_type": "display_data"
    }
   ],
   "source": [
    "plt.plot(history['best'], label='best')\n",
    "plt.plot(history['average'], label='average')\n",
    "\n",
    "step = num_generations // 10\n",
    "plt.xticks(range(0, num_generations + step, step))\n",
    "\n",
    "lo, hi = int(min(history['average'])), max(history['best'])\n",
    "step = max((hi - lo) // 10, 1)\n",
    "plt.yticks(range(lo, hi + step, step))\n",
    "\n",
    "plt.grid()\n",
    "plt.legend()\n",
    "plt.xlabel('Generation')\n",
    "plt.title('Fitness value')\n",
    "plt.show()"
   ]
  }
 ],
 "metadata": {
  "kernelspec": {
   "display_name": "Python 3.9.7 ('env': venv)",
   "language": "python",
   "name": "python3"
  },
  "language_info": {
   "codemirror_mode": {
    "name": "ipython",
    "version": 3
   },
   "file_extension": ".py",
   "mimetype": "text/x-python",
   "name": "python",
   "nbconvert_exporter": "python",
   "pygments_lexer": "ipython3",
   "version": "3.9.7"
  },
  "orig_nbformat": 4,
  "vscode": {
   "interpreter": {
    "hash": "636f76a40dcefe8f51b5bd7ed935161ea1c93608af8e3b8a3d9316a940b0a38e"
   }
  }
 },
 "nbformat": 4,
 "nbformat_minor": 2
}
